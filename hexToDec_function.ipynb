{
  "nbformat": 4,
  "nbformat_minor": 0,
  "metadata": {
    "colab": {
      "provenance": [],
      "authorship_tag": "ABX9TyNCVEbDCjC9yL3AMY7F7OGs",
      "include_colab_link": true
    },
    "kernelspec": {
      "name": "python3",
      "display_name": "Python 3"
    },
    "language_info": {
      "name": "python"
    }
  },
  "cells": [
    {
      "cell_type": "markdown",
      "metadata": {
        "id": "view-in-github",
        "colab_type": "text"
      },
      "source": [
        "<a href=\"https://colab.research.google.com/github/ayuksekdag/python-statistics-essential-training/blob/main/hexToDec_function.ipynb\" target=\"_parent\"><img src=\"https://colab.research.google.com/assets/colab-badge.svg\" alt=\"Open In Colab\"/></a>"
      ]
    },
    {
      "cell_type": "code",
      "execution_count": null,
      "metadata": {
        "colab": {
          "base_uri": "https://localhost:8080/"
        },
        "id": "Pg4f2pNjRCgm",
        "outputId": "46f8abb6-9e9b-49e8-b8fc-4af4a3e3b2e0"
      },
      "outputs": [
        {
          "output_type": "execute_result",
          "data": {
            "text/plain": [
              "{'0': 0,\n",
              " '1': 1,\n",
              " '2': 2,\n",
              " '3': 3,\n",
              " '4': 4,\n",
              " '5': 5,\n",
              " '6': 6,\n",
              " '7': 7,\n",
              " '8': 8,\n",
              " '9': 9,\n",
              " 'A': 10,\n",
              " 'B': 11,\n",
              " 'C': 12,\n",
              " 'D': 13,\n",
              " 'E': 14,\n",
              " 'F': 15}"
            ]
          },
          "metadata": {},
          "execution_count": 1
        }
      ],
      "source": [
        "# prompt: genereer een dictionary list van alle hexadecimale waardes van 0 tot F als key en waarde als decimaal\n",
        "\n",
        "hex_dict = {}\n",
        "for i in range(16):\n",
        "  hex_dict[hex(i)[2:].upper()] = i\n",
        "hex_dict\n"
      ]
    },
    {
      "cell_type": "code",
      "source": [
        "hexDict = {'0': 0,\n",
        " '1': 1,\n",
        " '2': 2,\n",
        " '3': 3,\n",
        " '4': 4,\n",
        " '5': 5,\n",
        " '6': 6,\n",
        " '7': 7,\n",
        " '8': 8,\n",
        " '9': 9,\n",
        " 'A': 10,\n",
        " 'B': 11,\n",
        " 'C': 12,\n",
        " 'D': 13,\n",
        " 'E': 14,\n",
        " 'F': 15}"
      ],
      "metadata": {
        "id": "6R_xRm7eRyMc"
      },
      "execution_count": null,
      "outputs": []
    },
    {
      "cell_type": "code",
      "source": [
        "def hexToDict(hexString):\n",
        "  res = 0\n",
        "  hexString = hexString [::-1]\n",
        "\n",
        "  for i, char in enumerate(hexString):\n",
        "    if char in ('0123456789ABDCDEF'):\n",
        "      validation = True\n",
        "    else:\n",
        "      validation = False\n",
        "\n",
        "\n",
        "  if validation == False:\n",
        "    return f\"cannot convert {hexString} because it is not a hex value\"\n",
        "\n",
        "  for i, char in enumerate(hexString):\n",
        "    if i > 0:\n",
        "      res = res + (hexDict[char] * 16)\n",
        "    else:\n",
        "      res = res + hexDict[char]\n",
        "  return res\n"
      ],
      "metadata": {
        "id": "qpBnPeJJR3Ic"
      },
      "execution_count": 97,
      "outputs": []
    },
    {
      "cell_type": "code",
      "source": [
        "hexToDict(hexString=\"10\")"
      ],
      "metadata": {
        "colab": {
          "base_uri": "https://localhost:8080/"
        },
        "id": "zM83JBA7SxP8",
        "outputId": "f1f8d7b4-66cc-4882-a17e-a861672b4291"
      },
      "execution_count": 98,
      "outputs": [
        {
          "output_type": "execute_result",
          "data": {
            "text/plain": [
              "16"
            ]
          },
          "metadata": {},
          "execution_count": 98
        }
      ]
    }
  ]
}